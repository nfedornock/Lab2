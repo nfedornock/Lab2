{
  "nbformat": 4,
  "nbformat_minor": 0,
  "metadata": {
    "colab": {
      "name": "Lab2PetShop.ipynb",
      "provenance": [],
      "authorship_tag": "ABX9TyP+9T/OH3RFQ9YWkoSmvNsY",
      "include_colab_link": true
    },
    "kernelspec": {
      "name": "python3",
      "display_name": "Python 3"
    }
  },
  "cells": [
    {
      "cell_type": "markdown",
      "metadata": {
        "id": "view-in-github",
        "colab_type": "text"
      },
      "source": [
        "<a href=\"https://colab.research.google.com/github/nfedornock/Lab2/blob/main/Lab2PetShop.ipynb\" target=\"_parent\"><img src=\"https://colab.research.google.com/assets/colab-badge.svg\" alt=\"Open In Colab\"/></a>"
      ]
    },
    {
      "cell_type": "markdown",
      "metadata": {
        "id": "LaRbrbTyg31l"
      },
      "source": [
        "#### I choose the six entities: Pet, Enclosure, Pet Food, Customers, Loyalty Program, and Adoption.  I choose these based of how I interpreted the description of the assignment.  I struggled some places with coming up with some verb relationships between some of the such as between enclosure and pet food.  I settled with that the enclosure is the holding place for the food and some other stretches I had are present as well.  I went for at least 3 attributes per each entity as we have been doing in class and other assignments.  I also ended up having foreign keys that were properly labeled to show they are there. I made the pet food and adoption have the same primary key due to the description of they are both counted as transactions but there are different types."
      ]
    },
    {
      "cell_type": "markdown",
      "metadata": {
        "id": "jCV_N5LLg4Fb"
      },
      "source": [
        "![PetShopERdiagram](https://raw.githubusercontent.com/nfedornock/Lab2/main/Lab2PetShop.png)"
      ]
    }
  ]
}